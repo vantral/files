{
 "cells": [
  {
   "cell_type": "code",
   "execution_count": 55,
   "id": "1bf66660",
   "metadata": {},
   "outputs": [
    {
     "name": "stderr",
     "output_type": "stream",
     "text": [
      "Using region Moscow server backend.\n",
      "Preacceleration Process: 100%|██████████████████| 26/26 [01:27<00:00,  3.36s/it]\n"
     ]
    },
    {
     "data": {
      "text/plain": [
       "{'success': ['alibaba',\n",
       "  'argos',\n",
       "  'baidu',\n",
       "  'bing',\n",
       "  'caiyun',\n",
       "  'deepl',\n",
       "  'google',\n",
       "  'iciba',\n",
       "  'iflyrec',\n",
       "  'itranslate',\n",
       "  'lingvanex',\n",
       "  'mglip',\n",
       "  'modernMt',\n",
       "  'myMemory',\n",
       "  'papago',\n",
       "  'qqFanyi',\n",
       "  'qqTranSmart',\n",
       "  'reverso',\n",
       "  'sogou',\n",
       "  'translateCom',\n",
       "  'utibet',\n",
       "  'youdao'],\n",
       " 'fail': ['iflytek', 'niutrans', 'volcEngine', 'yandex']}"
      ]
     },
     "execution_count": 55,
     "metadata": {},
     "output_type": "execute_result"
    }
   ],
   "source": [
    "import requests\n",
    "from bs4 import BeautifulSoup\n",
    "import translators as ts\n",
    "from tqdm.notebook import tqdm\n",
    "import pandas as pd\n",
    "\n",
    "ts.preaccelerate()"
   ]
  },
  {
   "cell_type": "code",
   "execution_count": 134,
   "id": "a99008c0",
   "metadata": {
    "scrolled": true
   },
   "outputs": [
    {
     "data": {
      "application/vnd.jupyter.widget-view+json": {
       "model_id": "aec881e7c2594ba9a14f84ad7017d369",
       "version_major": 2,
       "version_minor": 0
      },
      "text/plain": [
       "  0%|          | 0/45 [00:00<?, ?it/s]"
      ]
     },
     "metadata": {},
     "output_type": "display_data"
    }
   ],
   "source": [
    "final_data = []\n",
    "base = 'https://kaino.kotus.fi'\n",
    "for page in tqdm(range(1, 46)):\n",
    "    url = base + f'/algu/index.php?t=haku&o=hae&kieli=40&hakusana=&sivu={page}&tarkennettu=1&l=1'\n",
    "    r = requests.get(url)\n",
    "    r.encoding = r.apparent_encoding\n",
    "    html = r.text\n",
    "\n",
    "    soup = BeautifulSoup(html)\n",
    "    words = soup.find_all('div', {'class': 'haku'})\n",
    "    \n",
    "    for word in words:\n",
    "        links = word.find_all('a')\n",
    "        to_word = [base + links[0]['href']] * 2\n",
    "        bibs = [base + x['href'] for x in links[1:]]\n",
    "        lexemes = [x.text for x in word.find_all('span', {'class': 'unicode'})]\n",
    "        translations = [x.text for x in word.find_all('td', {'class': 'unicode2'})]\n",
    "        final_data.extend(zip(lexemes, translations, to_word, bibs))"
   ]
  },
  {
   "cell_type": "code",
   "execution_count": 80,
   "id": "7ed180be",
   "metadata": {},
   "outputs": [],
   "source": [
    "df = pd.DataFrame(final_data, columns=['word', 'orig_trans', 'link_to_word', 'link_to_source'])"
   ]
  },
  {
   "cell_type": "code",
   "execution_count": 118,
   "id": "71168922",
   "metadata": {},
   "outputs": [],
   "source": [
    "df['ru_trans'] = df['orig_trans'].apply(lambda x: ts.translate_text(x, from_language='fi-FI', to_language='ru-RU',\n",
    "                                                                    translator='myMemory') if x else '')"
   ]
  },
  {
   "cell_type": "code",
   "execution_count": 129,
   "id": "c496a020",
   "metadata": {},
   "outputs": [],
   "source": [
    "def myMemory_translate(word, langpair):\n",
    "    key = 'MY_MEMORY_TOKEN'\n",
    "    r = requests.get('https://api.mymemory.translated.net/get',\n",
    "                     params={\n",
    "                         'q': word,\n",
    "                         'langpair': langpair,\n",
    "                         'key': key,\n",
    "                         'de': 'MY_EMAIL',\n",
    "                         'user': 'MY_EMAIL'\n",
    "                     })\n",
    "    return r.json()['responseData']['translatedText']"
   ]
  },
  {
   "cell_type": "code",
   "execution_count": 130,
   "id": "78dbb703",
   "metadata": {
    "scrolled": false
   },
   "outputs": [],
   "source": [
    "df['en_trans'] = df['orig_trans'].apply(lambda x: myMemory_translate(x, 'fi|en') if x else '')\n",
    "df['ru_trans'] = df['orig_trans'].apply(lambda x: myMemory_translate(x, 'fi|ru') if x else '')"
   ]
  },
  {
   "cell_type": "code",
   "execution_count": 139,
   "id": "035f985a",
   "metadata": {},
   "outputs": [],
   "source": [
    "df = df[['word', 'ru_trans', 'en_trans', 'orig_trans', 'link_to_word', 'link_to_source']]"
   ]
  },
  {
   "cell_type": "code",
   "execution_count": 143,
   "id": "36e11a40",
   "metadata": {},
   "outputs": [],
   "source": [
    "df[df.ru_trans != ''].to_excel('database_protosaami_filter.xlsx', index=False)"
   ]
  }
 ],
 "metadata": {
  "kernelspec": {
   "display_name": "Python 3 (ipykernel)",
   "language": "python",
   "name": "python3"
  },
  "language_info": {
   "codemirror_mode": {
    "name": "ipython",
    "version": 3
   },
   "file_extension": ".py",
   "mimetype": "text/x-python",
   "name": "python",
   "nbconvert_exporter": "python",
   "pygments_lexer": "ipython3",
   "version": "3.9.13"
  }
 },
 "nbformat": 4,
 "nbformat_minor": 5
}
